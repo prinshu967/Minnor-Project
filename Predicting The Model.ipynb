{
 "cells": [
  {
   "cell_type": "code",
   "execution_count": 3,
   "id": "75c17aa4",
   "metadata": {},
   "outputs": [],
   "source": [
    "from keras.models import load_model\n",
    "\n",
    "# Load the saved model\n",
    "loaded_model = load_model('ResNet50_eurosat.h5')\n"
   ]
  },
  {
   "cell_type": "code",
   "execution_count": 4,
   "id": "61b750a5",
   "metadata": {},
   "outputs": [
    {
     "name": "stdout",
     "output_type": "stream",
     "text": [
      "Found 5400 images belonging to 10 classes.\n"
     ]
    }
   ],
   "source": [
    "from keras.preprocessing.image import ImageDataGenerator\n",
    "\n",
    "# Define the directory containing your test images\n",
    "TEST_DIR = 'testing'\n",
    "\n",
    "# Create an ImageDataGenerator for test data\n",
    "test_datagen = ImageDataGenerator(rescale=1.0/255)\n",
    "\n",
    "# Create a test data generator\n",
    "test_generator = test_datagen.flow_from_directory(\n",
    "    directory=TEST_DIR,\n",
    "    target_size=(64, 64),\n",
    "    batch_size=1,\n",
    "    class_mode=None,\n",
    "    color_mode='rgb',\n",
    "    shuffle=False,\n",
    "    seed=69\n",
    ")\n"
   ]
  },
  {
   "cell_type": "code",
   "execution_count": 5,
   "id": "d20aec19",
   "metadata": {},
   "outputs": [],
   "source": [
    "# Reset the test generator\n",
    "test_generator.reset()\n"
   ]
  },
  {
   "cell_type": "code",
   "execution_count": null,
   "id": "7a824635",
   "metadata": {},
   "outputs": [
    {
     "name": "stderr",
     "output_type": "stream",
     "text": [
      "C:\\Users\\Prinshu Kumar\\AppData\\Local\\Temp\\ipykernel_15652\\2458813782.py:2: UserWarning: `Model.predict_generator` is deprecated and will be removed in a future version. Please use `Model.predict`, which supports generators.\n",
      "  predictions = loaded_model.predict_generator(test_generator, steps=len(test_generator))\n"
     ]
    }
   ],
   "source": [
    "# Use the loaded model for prediction\n",
    "predictions = loaded_model.predict_generator(test_generator, steps=len(test_generator))\n"
   ]
  },
  {
   "cell_type": "code",
   "execution_count": null,
   "id": "d5ad91fc",
   "metadata": {},
   "outputs": [],
   "source": [
    "predictions"
   ]
  },
  {
   "cell_type": "code",
   "execution_count": 3,
   "id": "2e4a7388",
   "metadata": {},
   "outputs": [
    {
     "name": "stdout",
     "output_type": "stream",
     "text": [
      "Enter the path to the image file: Desktop/Minnor Project tools/001 landcover_classification-master/2750/AnnualCrop/AnnualCrop_1.jpg\n",
      "Error: [Errno 2] No such file or directory: 'Desktop/Minnor Project tools/001 landcover_classification-master/2750/AnnualCrop/AnnualCrop_1.jpg'\n"
     ]
    },
    {
     "ename": "NameError",
     "evalue": "name 'img' is not defined",
     "output_type": "error",
     "traceback": [
      "\u001b[1;31m---------------------------------------------------------------------------\u001b[0m",
      "\u001b[1;31mNameError\u001b[0m                                 Traceback (most recent call last)",
      "\u001b[1;32m~\\AppData\\Local\\Temp\\ipykernel_14620\\3388731413.py\u001b[0m in \u001b[0;36m<module>\u001b[1;34m\u001b[0m\n\u001b[0;32m     13\u001b[0m \u001b[1;33m\u001b[0m\u001b[0m\n\u001b[0;32m     14\u001b[0m \u001b[1;31m# Convert the image to an array\u001b[0m\u001b[1;33m\u001b[0m\u001b[1;33m\u001b[0m\u001b[0m\n\u001b[1;32m---> 15\u001b[1;33m \u001b[0mimg_array\u001b[0m \u001b[1;33m=\u001b[0m \u001b[0mkeras_image\u001b[0m\u001b[1;33m.\u001b[0m\u001b[0mimg_to_array\u001b[0m\u001b[1;33m(\u001b[0m\u001b[0mimg\u001b[0m\u001b[1;33m)\u001b[0m\u001b[1;33m\u001b[0m\u001b[1;33m\u001b[0m\u001b[0m\n\u001b[0m\u001b[0;32m     16\u001b[0m \u001b[1;33m\u001b[0m\u001b[0m\n\u001b[0;32m     17\u001b[0m \u001b[1;31m# Expand the dimensions to match the input shape expected by the model\u001b[0m\u001b[1;33m\u001b[0m\u001b[1;33m\u001b[0m\u001b[0m\n",
      "\u001b[1;31mNameError\u001b[0m: name 'img' is not defined"
     ]
    }
   ],
   "source": [
    "from keras.preprocessing import image as keras_image\n",
    "import numpy as np\n",
    "\n",
    "# Prompt the user to input the image file path\n",
    "image_path = input(\"Enter the path to the image file: \")\n",
    "\n",
    "# Load the image\n",
    "try:\n",
    "    img = keras_image.load_img(image_path, target_size=(64, 64))\n",
    "except Exception as e:\n",
    "    print(\"Error:\", e)\n",
    "    exit()\n",
    "\n",
    "# Convert the image to an array\n",
    "img_array = keras_image.img_to_array(img)\n",
    "\n",
    "# Expand the dimensions to match the input shape expected by the model\n",
    "img_array = np.expand_dims(img_array, axis=0)\n",
    "\n",
    "# Preprocess the input image\n",
    "img_array = img_array / 255.0  # Normalize the pixel values\n",
    "# Add more preprocessing steps here if needed\n",
    "\n",
    "# Now, you can pass this preprocessed image array to the model for prediction\n",
    "predictions = loaded_model.predict(img_array)\n",
    "\n",
    "# Display the predictions\n",
    "(predictions)\n"
   ]
  },
  {
   "cell_type": "code",
   "execution_count": 4,
   "id": "7692238c",
   "metadata": {},
   "outputs": [
    {
     "data": {
      "text/plain": [
       "(1, 10)"
      ]
     },
     "execution_count": 4,
     "metadata": {},
     "output_type": "execute_result"
    }
   ],
   "source": [
    "predictions.shape"
   ]
  },
  {
   "cell_type": "code",
   "execution_count": 9,
   "id": "b63d1626",
   "metadata": {},
   "outputs": [
    {
     "name": "stdout",
     "output_type": "stream",
     "text": [
      "7\n"
     ]
    }
   ],
   "source": [
    "ans=0\n",
    "for a in range(10):\n",
    "    if predictions[0][a]>predictions[0][ans]:\n",
    "        ans=a\n",
    "print(ans)"
   ]
  },
  {
   "cell_type": "code",
   "execution_count": 10,
   "id": "018b6712",
   "metadata": {},
   "outputs": [
    {
     "data": {
      "text/plain": [
       "'Residential'"
      ]
     },
     "execution_count": 10,
     "metadata": {},
     "output_type": "execute_result"
    }
   ],
   "source": [
    "class_names = ['AnnualCrop', 'Forest', 'HerbaceousVegetation', 'Highway', 'Industrial', 'Pasture', 'PermanentCrop', 'Residential', 'River', 'SeaLake']\n",
    "class_names[ans]\n"
   ]
  },
  {
   "cell_type": "code",
   "execution_count": null,
   "id": "ae4bb478",
   "metadata": {},
   "outputs": [],
   "source": [
    "predicted_class_index = np.argmax(predictions)\n",
    "predicted_class_index\n"
   ]
  },
  {
   "cell_type": "markdown",
   "id": "b960feca",
   "metadata": {},
   "source": [
    "# Now i am going to make app"
   ]
  },
  {
   "cell_type": "code",
   "execution_count": null,
   "id": "6f50eb1f",
   "metadata": {},
   "outputs": [],
   "source": [
    "import streamlit as st\n",
    "from keras.models import load_model\n",
    "from keras.preprocessing import image\n",
    "import numpy as np"
   ]
  },
  {
   "cell_type": "code",
   "execution_count": 7,
   "id": "c91adb15",
   "metadata": {},
   "outputs": [
    {
     "name": "stdout",
     "output_type": "stream",
     "text": [
      "Writing streamlit_app.py\n"
     ]
    }
   ],
   "source": [
    "%%writefile streamlit_app.py\n",
    "import streamlit as st\n",
    "from keras.models import load_model\n",
    "from keras.preprocessing import image\n",
    "import numpy as np\n",
    "model = load_model('ResNet50_eurosat.h5')\n",
    "class_names = ['AnnualCrop', 'Forest', 'HerbaceousVegetation', 'Highway', 'Industrial', 'Pasture', 'PermanentCrop', 'Residential', 'River', 'SeaLake']\n",
    "\n",
    "def preprocess_image(img_path):\n",
    "    img = image.load_img(img_path, target_size=(64, 64))\n",
    "    img_array = image.img_to_array(img)\n",
    "    img_array = np.expand_dims(img_array, axis=0)\n",
    "    img_array = img_array / 255.0  # Normalize the pixel values\n",
    "    return img_array\n",
    "\n",
    "def predict(image_file):\n",
    "    try:\n",
    "        img_array = preprocess_image(image_file)\n",
    "        prediction = model.predict(img_array)\n",
    "        predicted_class_index = np.argmax(prediction)\n",
    "        predicted_class = class_names[predicted_class_index]\n",
    "        return predicted_class\n",
    "    except Exception as e:\n",
    "        return str(e)\n",
    "\n",
    "st.title('Image Classification App')\n",
    "\n",
    "uploaded_file = st.file_uploader(\"Choose an image...\", type=\"jpg\")\n",
    "\n",
    "if uploaded_file is not None:\n",
    "    st.image(uploaded_file, caption='Uploaded Image.', use_column_width=True)\n",
    "    st.write(\"\")\n",
    "    st.write(\"Classifying...\")\n",
    "    prediction = predict(uploaded_file)\n",
    "    st.write(f\"Prediction: {prediction}\")"
   ]
  },
  {
   "cell_type": "code",
   "execution_count": null,
   "id": "f9cdfca6",
   "metadata": {},
   "outputs": [],
   "source": [
    "%run streamlit_app.py\n",
    "\n"
   ]
  }
 ],
 "metadata": {
  "kernelspec": {
   "display_name": "Python 3 (ipykernel)",
   "language": "python",
   "name": "python3"
  },
  "language_info": {
   "codemirror_mode": {
    "name": "ipython",
    "version": 3
   },
   "file_extension": ".py",
   "mimetype": "text/x-python",
   "name": "python",
   "nbconvert_exporter": "python",
   "pygments_lexer": "ipython3",
   "version": "3.9.13"
  }
 },
 "nbformat": 4,
 "nbformat_minor": 5
}
